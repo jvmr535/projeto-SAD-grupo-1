{
 "cells": [
  {
   "cell_type": "code",
   "execution_count": 6,
   "metadata": {},
   "outputs": [
    {
     "data": {
      "text/html": "<div>\n<style scoped>\n    .dataframe tbody tr th:only-of-type {\n        vertical-align: middle;\n    }\n\n    .dataframe tbody tr th {\n        vertical-align: top;\n    }\n\n    .dataframe thead th {\n        text-align: right;\n    }\n</style>\n<table border=\"1\" class=\"dataframe\">\n  <thead>\n    <tr style=\"text-align: right;\">\n      <th></th>\n      <th>CS_SEXO</th>\n      <th>NU_IDADE_N</th>\n      <th>CS_RACA</th>\n      <th>CS_ESCOL_N</th>\n      <th>SG_UF</th>\n      <th>ID_MN_RESI</th>\n      <th>CS_ZONA</th>\n      <th>SURTO_SG</th>\n      <th>NOSOCOMIAL</th>\n      <th>FEBRE</th>\n      <th>...</th>\n      <th>DOR_ABD</th>\n      <th>FADIGA</th>\n      <th>PERD_OLFT</th>\n      <th>PERD_PALA</th>\n      <th>TOMO_RES</th>\n      <th>TP_TES_AN</th>\n      <th>RES_AN</th>\n      <th>RES_IGG</th>\n      <th>RES_IGM</th>\n      <th>RES_IGA</th>\n    </tr>\n  </thead>\n  <tbody>\n    <tr>\n      <th>0</th>\n      <td>M</td>\n      <td>79</td>\n      <td>1</td>\n      <td>2</td>\n      <td>SP</td>\n      <td>MAIRIPORA</td>\n      <td>1</td>\n      <td>2</td>\n      <td>2</td>\n      <td>1</td>\n      <td>...</td>\n      <td>9</td>\n      <td>9</td>\n      <td>9</td>\n      <td>9</td>\n      <td>1</td>\n      <td>1</td>\n      <td>5</td>\n      <td>9</td>\n      <td>9</td>\n      <td>4</td>\n    </tr>\n    <tr>\n      <th>1</th>\n      <td>M</td>\n      <td>3</td>\n      <td>4</td>\n      <td>9</td>\n      <td>MG</td>\n      <td>BELO HORIZONTE</td>\n      <td>1</td>\n      <td>2</td>\n      <td>2</td>\n      <td>1</td>\n      <td>...</td>\n      <td>2</td>\n      <td>2</td>\n      <td>2</td>\n      <td>2</td>\n      <td>6</td>\n      <td>1</td>\n      <td>4</td>\n      <td>4</td>\n      <td>4</td>\n      <td>4</td>\n    </tr>\n    <tr>\n      <th>2</th>\n      <td>M</td>\n      <td>78</td>\n      <td>1</td>\n      <td>2</td>\n      <td>RS</td>\n      <td>ALVORADA</td>\n      <td>1</td>\n      <td>2</td>\n      <td>2</td>\n      <td>2</td>\n      <td>...</td>\n      <td>2</td>\n      <td>2</td>\n      <td>2</td>\n      <td>2</td>\n      <td>6</td>\n      <td>2</td>\n      <td>1</td>\n      <td>4</td>\n      <td>4</td>\n      <td>4</td>\n    </tr>\n    <tr>\n      <th>3</th>\n      <td>M</td>\n      <td>58</td>\n      <td>4</td>\n      <td>2</td>\n      <td>SP</td>\n      <td>OSASCO</td>\n      <td>1</td>\n      <td>2</td>\n      <td>2</td>\n      <td>1</td>\n      <td>...</td>\n      <td>9</td>\n      <td>9</td>\n      <td>9</td>\n      <td>9</td>\n      <td>9</td>\n      <td>1</td>\n      <td>4</td>\n      <td>4</td>\n      <td>4</td>\n      <td>4</td>\n    </tr>\n    <tr>\n      <th>4</th>\n      <td>F</td>\n      <td>73</td>\n      <td>1</td>\n      <td>1</td>\n      <td>SP</td>\n      <td>OSASCO</td>\n      <td>1</td>\n      <td>1</td>\n      <td>2</td>\n      <td>1</td>\n      <td>...</td>\n      <td>2</td>\n      <td>2</td>\n      <td>2</td>\n      <td>2</td>\n      <td>9</td>\n      <td>1</td>\n      <td>4</td>\n      <td>4</td>\n      <td>4</td>\n      <td>4</td>\n    </tr>\n    <tr>\n      <th>...</th>\n      <td>...</td>\n      <td>...</td>\n      <td>...</td>\n      <td>...</td>\n      <td>...</td>\n      <td>...</td>\n      <td>...</td>\n      <td>...</td>\n      <td>...</td>\n      <td>...</td>\n      <td>...</td>\n      <td>...</td>\n      <td>...</td>\n      <td>...</td>\n      <td>...</td>\n      <td>...</td>\n      <td>...</td>\n      <td>...</td>\n      <td>...</td>\n      <td>...</td>\n      <td>...</td>\n    </tr>\n    <tr>\n      <th>1576</th>\n      <td>M</td>\n      <td>72</td>\n      <td>1</td>\n      <td>2</td>\n      <td>RS</td>\n      <td>ALVORADA</td>\n      <td>1</td>\n      <td>2</td>\n      <td>2</td>\n      <td>2</td>\n      <td>...</td>\n      <td>2</td>\n      <td>2</td>\n      <td>2</td>\n      <td>2</td>\n      <td>9</td>\n      <td>2</td>\n      <td>2</td>\n      <td>4</td>\n      <td>4</td>\n      <td>4</td>\n    </tr>\n    <tr>\n      <th>1577</th>\n      <td>F</td>\n      <td>55</td>\n      <td>4</td>\n      <td>3</td>\n      <td>SP</td>\n      <td>OSASCO</td>\n      <td>1</td>\n      <td>1</td>\n      <td>2</td>\n      <td>2</td>\n      <td>...</td>\n      <td>2</td>\n      <td>2</td>\n      <td>2</td>\n      <td>2</td>\n      <td>9</td>\n      <td>1</td>\n      <td>4</td>\n      <td>4</td>\n      <td>4</td>\n      <td>4</td>\n    </tr>\n    <tr>\n      <th>1578</th>\n      <td>M</td>\n      <td>64</td>\n      <td>9</td>\n      <td>9</td>\n      <td>SP</td>\n      <td>ITANHAEM</td>\n      <td>1</td>\n      <td>2</td>\n      <td>2</td>\n      <td>2</td>\n      <td>...</td>\n      <td>2</td>\n      <td>2</td>\n      <td>2</td>\n      <td>2</td>\n      <td>1</td>\n      <td>1</td>\n      <td>4</td>\n      <td>4</td>\n      <td>4</td>\n      <td>4</td>\n    </tr>\n    <tr>\n      <th>1579</th>\n      <td>F</td>\n      <td>87</td>\n      <td>4</td>\n      <td>0</td>\n      <td>MG</td>\n      <td>TURMALINA</td>\n      <td>3</td>\n      <td>2</td>\n      <td>2</td>\n      <td>2</td>\n      <td>...</td>\n      <td>2</td>\n      <td>1</td>\n      <td>2</td>\n      <td>2</td>\n      <td>6</td>\n      <td>2</td>\n      <td>2</td>\n      <td>2</td>\n      <td>2</td>\n      <td>4</td>\n    </tr>\n    <tr>\n      <th>1580</th>\n      <td>M</td>\n      <td>67</td>\n      <td>4</td>\n      <td>9</td>\n      <td>MG</td>\n      <td>TIMOTEO</td>\n      <td>1</td>\n      <td>1</td>\n      <td>2</td>\n      <td>2</td>\n      <td>...</td>\n      <td>2</td>\n      <td>2</td>\n      <td>2</td>\n      <td>2</td>\n      <td>6</td>\n      <td>2</td>\n      <td>2</td>\n      <td>4</td>\n      <td>4</td>\n      <td>4</td>\n    </tr>\n  </tbody>\n</table>\n<p>1581 rows × 51 columns</p>\n</div>",
      "text/plain": "     CS_SEXO  NU_IDADE_N  CS_RACA  CS_ESCOL_N SG_UF      ID_MN_RESI  CS_ZONA  \\\n0          M          79        1           2    SP       MAIRIPORA        1   \n1          M           3        4           9    MG  BELO HORIZONTE        1   \n2          M          78        1           2    RS        ALVORADA        1   \n3          M          58        4           2    SP          OSASCO        1   \n4          F          73        1           1    SP          OSASCO        1   \n...      ...         ...      ...         ...   ...             ...      ...   \n1576       M          72        1           2    RS        ALVORADA        1   \n1577       F          55        4           3    SP          OSASCO        1   \n1578       M          64        9           9    SP        ITANHAEM        1   \n1579       F          87        4           0    MG       TURMALINA        3   \n1580       M          67        4           9    MG         TIMOTEO        1   \n\n      SURTO_SG  NOSOCOMIAL  FEBRE  ...  DOR_ABD  FADIGA  PERD_OLFT  PERD_PALA  \\\n0            2           2      1  ...        9       9          9          9   \n1            2           2      1  ...        2       2          2          2   \n2            2           2      2  ...        2       2          2          2   \n3            2           2      1  ...        9       9          9          9   \n4            1           2      1  ...        2       2          2          2   \n...        ...         ...    ...  ...      ...     ...        ...        ...   \n1576         2           2      2  ...        2       2          2          2   \n1577         1           2      2  ...        2       2          2          2   \n1578         2           2      2  ...        2       2          2          2   \n1579         2           2      2  ...        2       1          2          2   \n1580         1           2      2  ...        2       2          2          2   \n\n      TOMO_RES  TP_TES_AN  RES_AN  RES_IGG RES_IGM  RES_IGA  \n0            1          1       5        9       9        4  \n1            6          1       4        4       4        4  \n2            6          2       1        4       4        4  \n3            9          1       4        4       4        4  \n4            9          1       4        4       4        4  \n...        ...        ...     ...      ...     ...      ...  \n1576         9          2       2        4       4        4  \n1577         9          1       4        4       4        4  \n1578         1          1       4        4       4        4  \n1579         6          2       2        2       2        4  \n1580         6          2       2        4       4        4  \n\n[1581 rows x 51 columns]"
     },
     "execution_count": 6,
     "metadata": {},
     "output_type": "execute_result"
    }
   ],
   "source": [
    "import pandas as pd\r\n",
    "\r\n",
    "df = pd.DataFrame(pd.read_csv('banco.tsv', '\\t'))\r\n",
    "df"
   ]
  },
  {
   "cell_type": "code",
   "execution_count": 7,
   "metadata": {},
   "outputs": [],
   "source": [
    "from mlxtend.frequent_patterns import apriori\r\n",
    "\r\n",
    "class Apriori:\r\n",
    "    \"\"\"Apriori Class. Its has Apriori steps.\"\"\"\r\n",
    "    threshold = 0.5\r\n",
    "    df = None\r\n",
    "\r\n",
    "    def __init__(self, df, threshold=None, transform_bol=False):\r\n",
    "        \"\"\"Apriori Constructor. \r\n",
    "\r\n",
    "        :param pandas.DataFrame df: transactions dataset (1 or 0).\r\n",
    "        :param float threshold: set threshold for min_support.\r\n",
    "        :return: Apriori instance.\r\n",
    "        :rtype: Apriori\r\n",
    "        \"\"\"\r\n",
    "\r\n",
    "        self._validate_df(df)\r\n",
    "\r\n",
    "        self.df = df\r\n",
    "        if threshold is not None:\r\n",
    "            self.threshold = threshold\r\n",
    "\r\n",
    "        if transform_bol:\r\n",
    "            self._transform_bol()\r\n",
    "\r\n",
    "    def _validate_df(self, df=None):\r\n",
    "        \"\"\"Validade if df exists. \r\n",
    "\r\n",
    "        :param pandas.DataFrame df: transactions dataset (1 or 0).\r\n",
    "        :return: \r\n",
    "        :rtype: void\r\n",
    "        \"\"\"\r\n",
    "\r\n",
    "        if df is None:\r\n",
    "            raise Exception(\"df must be a valid pandas.DataDrame.\")\r\n",
    "\r\n",
    "\r\n",
    "    def _transform_bol(self):\r\n",
    "        \"\"\"Transform (1 or 0) dataset to (True or False). \r\n",
    "\r\n",
    "        :return: \r\n",
    "        :rtype: void\r\n",
    "        \"\"\"\r\n",
    "\r\n",
    "        for column in self.df.columns:\r\n",
    "            self.df[column] = self.df[column].apply(lambda x: True if x == 1 else False)\r\n",
    "\r\n",
    "\r\n",
    "    def _apriori(self, use_colnames=False, max_len=None, count=True):\r\n",
    "        \"\"\"Call apriori mlxtend.frequent_patterns function. \r\n",
    "\r\n",
    "        :param bool use_colnames: Flag to use columns name in final DataFrame.\r\n",
    "        :param int max_len: Maximum length of itemsets generated.\r\n",
    "        :param bool count: Flag to count length of the itemsets.\r\n",
    "        :return: apriori DataFrame.\r\n",
    "        :rtype: pandas.DataFrame\r\n",
    "        \"\"\"\r\n",
    "    \r\n",
    "        apriori_df = apriori(\r\n",
    "                    self.df, \r\n",
    "                    min_support=self.threshold,\r\n",
    "                    use_colnames=use_colnames, \r\n",
    "                    max_len=max_len\r\n",
    "                )\r\n",
    "        if count:\r\n",
    "            apriori_df['length'] = apriori_df['itemsets'].apply(lambda x: len(x))\r\n",
    "\r\n",
    "        return apriori_df\r\n",
    "\r\n",
    "    def run(self, use_colnames=False, max_len=None, count=True):\r\n",
    "        \"\"\"Apriori Runner Function.\r\n",
    "\r\n",
    "        :param bool use_colnames: Flag to use columns name in final DataFrame.\r\n",
    "        :param int max_len: Maximum length of itemsets generated.\r\n",
    "        :param bool count: Flag to count length of the itemsets.\r\n",
    "        :return: apriori DataFrame.\r\n",
    "        :rtype: pandas.DataFrame\r\n",
    "        \"\"\"\r\n",
    "\r\n",
    "        return self._apriori(\r\n",
    "                        use_colnames=use_colnames,\r\n",
    "                        max_len=max_len,\r\n",
    "                        count=count\r\n",
    "                    )\r\n",
    "\r\n",
    "    def filter(self, apriori_df, length, threshold):\r\n",
    "        \"\"\"Filter Apriori DataFrame by length and  threshold.\r\n",
    "\r\n",
    "        :param pandas.DataFrame apriori_df: Apriori DataFrame.\r\n",
    "        :param int length: Length of itemsets required.\r\n",
    "        :param float threshold: Minimum threshold nrequired.\r\n",
    "        :return: apriori filtered DataFrame.\r\n",
    "        :rtype:pandas.DataFrame\r\n",
    "        \"\"\"\r\n",
    "        \r\n",
    "        if 'length' not in apriori_df.columns:\r\n",
    "            raise Exception(\"apriori_df has no length. Please run the Apriori with count=True.\")\r\n",
    "\r\n",
    "        return apriori_df[ (apriori_df['length'] == length) & (apriori_df['support'] >= threshold) ]"
   ]
  },
  {
   "cell_type": "code",
   "execution_count": 8,
   "metadata": {},
   "outputs": [
    {
     "data": {
      "text/html": "<div>\n<style scoped>\n    .dataframe tbody tr th:only-of-type {\n        vertical-align: middle;\n    }\n\n    .dataframe tbody tr th {\n        vertical-align: top;\n    }\n\n    .dataframe thead th {\n        text-align: right;\n    }\n</style>\n<table border=\"1\" class=\"dataframe\">\n  <thead>\n    <tr style=\"text-align: right;\">\n      <th></th>\n      <th>support</th>\n      <th>itemsets</th>\n      <th>length</th>\n    </tr>\n  </thead>\n  <tbody>\n    <tr>\n      <th>0</th>\n      <td>0.440860</td>\n      <td>(CS_RACA)</td>\n      <td>1</td>\n    </tr>\n    <tr>\n      <th>1</th>\n      <td>0.942441</td>\n      <td>(CS_ZONA)</td>\n      <td>1</td>\n    </tr>\n    <tr>\n      <th>2</th>\n      <td>0.580645</td>\n      <td>(FEBRE)</td>\n      <td>1</td>\n    </tr>\n    <tr>\n      <th>3</th>\n      <td>0.691335</td>\n      <td>(TOSSE)</td>\n      <td>1</td>\n    </tr>\n    <tr>\n      <th>4</th>\n      <td>0.743201</td>\n      <td>(DISPNEIA)</td>\n      <td>1</td>\n    </tr>\n    <tr>\n      <th>...</th>\n      <td>...</td>\n      <td>...</td>\n      <td>...</td>\n    </tr>\n    <tr>\n      <th>206</th>\n      <td>0.478178</td>\n      <td>(AMOSTRA, HOSPITAL, SATURACAO, CS_ZONA, DESC_R...</td>\n      <td>5</td>\n    </tr>\n    <tr>\n      <th>207</th>\n      <td>0.401012</td>\n      <td>(AMOSTRA, HOSPITAL, TP_TES_AN, CS_ZONA, DESC_R...</td>\n      <td>5</td>\n    </tr>\n    <tr>\n      <th>208</th>\n      <td>0.403542</td>\n      <td>(AMOSTRA, TOSSE, DISPNEIA, HOSPITAL, DESC_RESP)</td>\n      <td>5</td>\n    </tr>\n    <tr>\n      <th>209</th>\n      <td>0.449715</td>\n      <td>(AMOSTRA, DISPNEIA, HOSPITAL, SATURACAO, DESC_...</td>\n      <td>5</td>\n    </tr>\n    <tr>\n      <th>210</th>\n      <td>0.425047</td>\n      <td>(AMOSTRA, DISPNEIA, HOSPITAL, CS_ZONA, SATURAC...</td>\n      <td>6</td>\n    </tr>\n  </tbody>\n</table>\n<p>211 rows × 3 columns</p>\n</div>",
      "text/plain": "      support                                           itemsets  length\n0    0.440860                                          (CS_RACA)       1\n1    0.942441                                          (CS_ZONA)       1\n2    0.580645                                            (FEBRE)       1\n3    0.691335                                            (TOSSE)       1\n4    0.743201                                         (DISPNEIA)       1\n..        ...                                                ...     ...\n206  0.478178  (AMOSTRA, HOSPITAL, SATURACAO, CS_ZONA, DESC_R...       5\n207  0.401012  (AMOSTRA, HOSPITAL, TP_TES_AN, CS_ZONA, DESC_R...       5\n208  0.403542    (AMOSTRA, TOSSE, DISPNEIA, HOSPITAL, DESC_RESP)       5\n209  0.449715  (AMOSTRA, DISPNEIA, HOSPITAL, SATURACAO, DESC_...       5\n210  0.425047  (AMOSTRA, DISPNEIA, HOSPITAL, CS_ZONA, SATURAC...       6\n\n[211 rows x 3 columns]"
     },
     "execution_count": 8,
     "metadata": {},
     "output_type": "execute_result"
    }
   ],
   "source": [
    "# Running Apriori \r\n",
    "\r\n",
    "if 'ID' in df.columns: del df['ID'] # ID is not relevant to apriori \r\n",
    "\r\n",
    "apriori_runner = Apriori(df, threshold=0.4, transform_bol=True)\r\n",
    "apriori_df = apriori_runner.run(use_colnames=True)\r\n",
    "apriori_df"
   ]
  },
  {
   "cell_type": "code",
   "execution_count": null,
   "metadata": {},
   "outputs": [],
   "source": [
    "# Showing only pairs with support granter than 0.41\r\n",
    "apriori_runner.filter(apriori_df, length=2, threshold=0.41)"
   ]
  }
 ],
 "metadata": {
  "kernelspec": {
   "display_name": "Python 3.8.5 64-bit ('venv')",
   "name": "python385jvsc74a57bd0b27cf3110214d24c40a2b9ef434548ffdc2e98ad59f4d5299813bc28e7cd1e2f"
  },
  "language_info": {
   "codemirror_mode": {
    "name": "ipython",
    "version": 3
   },
   "file_extension": ".py",
   "mimetype": "text/x-python",
   "name": "python",
   "nbconvert_exporter": "python",
   "pygments_lexer": "ipython3",
   "version": "3.8.5"
  },
  "orig_nbformat": 2
 },
 "nbformat": 4,
 "nbformat_minor": 2
}