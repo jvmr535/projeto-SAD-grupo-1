{
 "cells": [
  {
   "cell_type": "code",
   "execution_count": 60,
   "metadata": {},
   "outputs": [
    {
     "data": {
      "text/html": "<div>\n<style scoped>\n    .dataframe tbody tr th:only-of-type {\n        vertical-align: middle;\n    }\n\n    .dataframe tbody tr th {\n        vertical-align: top;\n    }\n\n    .dataframe thead th {\n        text-align: right;\n    }\n</style>\n<table border=\"1\" class=\"dataframe\">\n  <thead>\n    <tr style=\"text-align: right;\">\n      <th></th>\n      <th>EVOLUCAO</th>\n      <th>FEBRE</th>\n      <th>TOSSE</th>\n      <th>DISPNEIA</th>\n      <th>FADIGA</th>\n      <th>DESC_RESP</th>\n      <th>PERD_OLFT</th>\n      <th>PERD_PALA</th>\n    </tr>\n  </thead>\n  <tbody>\n    <tr>\n      <th>0</th>\n      <td>0</td>\n      <td>1</td>\n      <td>1</td>\n      <td>1</td>\n      <td>1</td>\n      <td>1</td>\n      <td>1</td>\n      <td>1</td>\n    </tr>\n    <tr>\n      <th>1</th>\n      <td>1</td>\n      <td>1</td>\n      <td>1</td>\n      <td>1</td>\n      <td>0</td>\n      <td>1</td>\n      <td>0</td>\n      <td>0</td>\n    </tr>\n    <tr>\n      <th>2</th>\n      <td>0</td>\n      <td>0</td>\n      <td>1</td>\n      <td>1</td>\n      <td>0</td>\n      <td>1</td>\n      <td>0</td>\n      <td>0</td>\n    </tr>\n    <tr>\n      <th>3</th>\n      <td>1</td>\n      <td>1</td>\n      <td>1</td>\n      <td>1</td>\n      <td>1</td>\n      <td>1</td>\n      <td>1</td>\n      <td>1</td>\n    </tr>\n    <tr>\n      <th>4</th>\n      <td>1</td>\n      <td>1</td>\n      <td>1</td>\n      <td>0</td>\n      <td>0</td>\n      <td>1</td>\n      <td>0</td>\n      <td>0</td>\n    </tr>\n    <tr>\n      <th>...</th>\n      <td>...</td>\n      <td>...</td>\n      <td>...</td>\n      <td>...</td>\n      <td>...</td>\n      <td>...</td>\n      <td>...</td>\n      <td>...</td>\n    </tr>\n    <tr>\n      <th>1576</th>\n      <td>0</td>\n      <td>0</td>\n      <td>1</td>\n      <td>1</td>\n      <td>0</td>\n      <td>1</td>\n      <td>0</td>\n      <td>0</td>\n    </tr>\n    <tr>\n      <th>1577</th>\n      <td>1</td>\n      <td>0</td>\n      <td>1</td>\n      <td>0</td>\n      <td>0</td>\n      <td>1</td>\n      <td>0</td>\n      <td>0</td>\n    </tr>\n    <tr>\n      <th>1578</th>\n      <td>0</td>\n      <td>0</td>\n      <td>1</td>\n      <td>1</td>\n      <td>0</td>\n      <td>1</td>\n      <td>0</td>\n      <td>0</td>\n    </tr>\n    <tr>\n      <th>1579</th>\n      <td>1</td>\n      <td>0</td>\n      <td>1</td>\n      <td>0</td>\n      <td>1</td>\n      <td>0</td>\n      <td>0</td>\n      <td>0</td>\n    </tr>\n    <tr>\n      <th>1580</th>\n      <td>1</td>\n      <td>0</td>\n      <td>1</td>\n      <td>1</td>\n      <td>0</td>\n      <td>1</td>\n      <td>0</td>\n      <td>0</td>\n    </tr>\n  </tbody>\n</table>\n<p>1581 rows × 8 columns</p>\n</div>",
      "text/plain": "      EVOLUCAO  FEBRE  TOSSE  DISPNEIA  FADIGA  DESC_RESP  PERD_OLFT  \\\n0            0      1      1         1       1          1          1   \n1            1      1      1         1       0          1          0   \n2            0      0      1         1       0          1          0   \n3            1      1      1         1       1          1          1   \n4            1      1      1         0       0          1          0   \n...        ...    ...    ...       ...     ...        ...        ...   \n1576         0      0      1         1       0          1          0   \n1577         1      0      1         0       0          1          0   \n1578         0      0      1         1       0          1          0   \n1579         1      0      1         0       1          0          0   \n1580         1      0      1         1       0          1          0   \n\n      PERD_PALA  \n0             1  \n1             0  \n2             0  \n3             1  \n4             0  \n...         ...  \n1576          0  \n1577          0  \n1578          0  \n1579          0  \n1580          0  \n\n[1581 rows x 8 columns]"
     },
     "execution_count": 60,
     "metadata": {},
     "output_type": "execute_result"
    }
   ],
   "source": [
    "import pandas as pd\r\n",
    "\r\n",
    "df = pd.read_csv('banco.tsv', '\\t')\r\n",
    "df_dummy = pd.get_dummies(df)\r\n",
    "aux = df_dummy[[\"EVOLUCAO\", \"FEBRE\", \"TOSSE\", \"DISPNEIA\", \"FADIGA\", \"DESC_RESP\", \"PERD_OLFT\", \"PERD_PALA\"]]\r\n",
    "new_df = pd.get_dummies(aux)\r\n",
    "\r\n",
    "new_df.loc[(new_df['EVOLUCAO'] == 9), 'EVOLUCAO'] = 1\r\n",
    "new_df.loc[(new_df['EVOLUCAO'] == 2) | (new_df['EVOLUCAO'] == 3), 'EVOLUCAO'] = 0\r\n",
    "\r\n",
    "new_df.loc[(new_df['FEBRE'] == 9), 'FEBRE'] = 1\r\n",
    "new_df.loc[(new_df['FEBRE'] == 2), 'FEBRE'] = 0\r\n",
    "\r\n",
    "new_df.loc[(new_df['TOSSE'] == 9), 'TOSSE'] = 1\r\n",
    "new_df.loc[(new_df['TOSSE'] == 2), 'TOSSE'] = 0\r\n",
    "\r\n",
    "new_df.loc[(new_df['DISPNEIA'] == 9), 'DISPNEIA'] = 1\r\n",
    "new_df.loc[(new_df['DISPNEIA'] == 2), 'DISPNEIA'] = 0\r\n",
    "\r\n",
    "new_df.loc[(new_df['FADIGA'] == 9), 'FADIGA'] = 1\r\n",
    "new_df.loc[(new_df['FADIGA'] == 2), 'FADIGA'] = 0\r\n",
    "\r\n",
    "new_df.loc[(new_df['DESC_RESP'] == 9), 'DESC_RESP'] = 1\r\n",
    "new_df.loc[(new_df['DESC_RESP'] == 2), 'DESC_RESP'] = 0\r\n",
    "\r\n",
    "new_df.loc[(new_df['PERD_OLFT'] == 9), 'PERD_OLFT'] = 1\r\n",
    "new_df.loc[(new_df['PERD_OLFT'] == 2), 'PERD_OLFT'] = 0\r\n",
    "\r\n",
    "new_df.loc[(new_df['PERD_PALA'] == 9), 'PERD_PALA'] = 1\r\n",
    "new_df.loc[(new_df['PERD_PALA'] == 2), 'PERD_PALA'] = 0\r\n",
    "\r\n",
    "\r\n",
    "new_df\r\n"
   ]
  },
  {
   "cell_type": "code",
   "execution_count": 61,
   "metadata": {},
   "outputs": [],
   "source": [
    "from mlxtend.frequent_patterns import apriori\r\n",
    "\r\n",
    "class Apriori:\r\n",
    "    \"\"\"Apriori Class. Its has Apriori steps.\"\"\"\r\n",
    "    threshold = 0.5\r\n",
    "    df = None\r\n",
    "\r\n",
    "    def __init__(self, df, threshold=None, transform_bol=False):\r\n",
    "        \"\"\"Apriori Constructor. \r\n",
    "\r\n",
    "        :param pandas.DataFrame df: transactions dataset (1 or 0).\r\n",
    "        :param float threshold: set threshold for min_support.\r\n",
    "        :return: Apriori instance.\r\n",
    "        :rtype: Apriori\r\n",
    "        \"\"\"\r\n",
    "\r\n",
    "        self._validate_df(df)\r\n",
    "\r\n",
    "        self.df = df\r\n",
    "        if threshold is not None:\r\n",
    "            self.threshold = threshold\r\n",
    "\r\n",
    "        if transform_bol:\r\n",
    "            self._transform_bol()\r\n",
    "\r\n",
    "    def _validate_df(self, df=None):\r\n",
    "        \"\"\"Validade if df exists. \r\n",
    "\r\n",
    "        :param pandas.DataFrame df: transactions dataset (1 or 0).\r\n",
    "        :return: \r\n",
    "        :rtype: void\r\n",
    "        \"\"\"\r\n",
    "\r\n",
    "        if df is None:\r\n",
    "            raise Exception(\"df must be a valid pandas.DataDrame.\")\r\n",
    "\r\n",
    "\r\n",
    "    def _transform_bol(self):\r\n",
    "        \"\"\"Transform (1 or 0) dataset to (True or False). \r\n",
    "\r\n",
    "        :return: \r\n",
    "        :rtype: void\r\n",
    "        \"\"\"\r\n",
    "\r\n",
    "        for column in self.df.columns:\r\n",
    "            self.df[column] = self.df[column].apply(lambda x: True if x == 1 else False)\r\n",
    "\r\n",
    "\r\n",
    "    def _apriori(self, use_colnames=False, max_len=None, count=True):\r\n",
    "        \"\"\"Call apriori mlxtend.frequent_patterns function. \r\n",
    "\r\n",
    "        :param bool use_colnames: Flag to use columns name in final DataFrame.\r\n",
    "        :param int max_len: Maximum length of itemsets generated.\r\n",
    "        :param bool count: Flag to count length of the itemsets.\r\n",
    "        :return: apriori DataFrame.\r\n",
    "        :rtype: pandas.DataFrame\r\n",
    "        \"\"\"\r\n",
    "    \r\n",
    "        apriori_df = apriori(\r\n",
    "                    self.df, \r\n",
    "                    min_support=self.threshold,\r\n",
    "                    use_colnames=use_colnames, \r\n",
    "                    max_len=max_len\r\n",
    "                )\r\n",
    "        if count:\r\n",
    "            apriori_df['length'] = apriori_df['itemsets'].apply(lambda x: len(x))\r\n",
    "\r\n",
    "        return apriori_df\r\n",
    "\r\n",
    "    def run(self, use_colnames=False, max_len=None, count=True):\r\n",
    "        \"\"\"Apriori Runner Function.\r\n",
    "\r\n",
    "        :param bool use_colnames: Flag to use columns name in final DataFrame.\r\n",
    "        :param int max_len: Maximum length of itemsets generated.\r\n",
    "        :param bool count: Flag to count length of the itemsets.\r\n",
    "        :return: apriori DataFrame.\r\n",
    "        :rtype: pandas.DataFrame\r\n",
    "        \"\"\"\r\n",
    "\r\n",
    "        return self._apriori(\r\n",
    "                        use_colnames=use_colnames,\r\n",
    "                        max_len=max_len,\r\n",
    "                        count=count\r\n",
    "                    )\r\n",
    "\r\n",
    "    def filter(self, apriori_df, length, threshold):\r\n",
    "        \"\"\"Filter Apriori DataFrame by length and  threshold.\r\n",
    "\r\n",
    "        :param pandas.DataFrame apriori_df: Apriori DataFrame.\r\n",
    "        :param int length: Length of itemsets required.\r\n",
    "        :param float threshold: Minimum threshold nrequired.\r\n",
    "        :return: apriori filtered DataFrame.\r\n",
    "        :rtype:pandas.DataFrame\r\n",
    "        \"\"\"\r\n",
    "        \r\n",
    "        if 'length' not in apriori_df.columns:\r\n",
    "            raise Exception(\"apriori_df has no length. Please run the Apriori with count=True.\")\r\n",
    "\r\n",
    "        return apriori_df[ (apriori_df['length'] == length) & (apriori_df['support'] >= threshold) ]"
   ]
  },
  {
   "cell_type": "code",
   "execution_count": 62,
   "metadata": {},
   "outputs": [
    {
     "data": {
      "text/html": "<div>\n<style scoped>\n    .dataframe tbody tr th:only-of-type {\n        vertical-align: middle;\n    }\n\n    .dataframe tbody tr th {\n        vertical-align: top;\n    }\n\n    .dataframe thead th {\n        text-align: right;\n    }\n</style>\n<table border=\"1\" class=\"dataframe\">\n  <thead>\n    <tr style=\"text-align: right;\">\n      <th></th>\n      <th>support</th>\n      <th>itemsets</th>\n      <th>length</th>\n    </tr>\n  </thead>\n  <tbody>\n    <tr>\n      <th>0</th>\n      <td>0.625553</td>\n      <td>(EVOLUCAO)</td>\n      <td>1</td>\n    </tr>\n    <tr>\n      <th>1</th>\n      <td>0.591398</td>\n      <td>(FEBRE)</td>\n      <td>1</td>\n    </tr>\n    <tr>\n      <th>2</th>\n      <td>0.700190</td>\n      <td>(TOSSE)</td>\n      <td>1</td>\n    </tr>\n    <tr>\n      <th>3</th>\n      <td>0.746363</td>\n      <td>(DISPNEIA)</td>\n      <td>1</td>\n    </tr>\n    <tr>\n      <th>4</th>\n      <td>0.653384</td>\n      <td>(DESC_RESP)</td>\n      <td>1</td>\n    </tr>\n    <tr>\n      <th>5</th>\n      <td>0.470588</td>\n      <td>(TOSSE, EVOLUCAO)</td>\n      <td>2</td>\n    </tr>\n    <tr>\n      <th>6</th>\n      <td>0.445920</td>\n      <td>(DISPNEIA, EVOLUCAO)</td>\n      <td>2</td>\n    </tr>\n    <tr>\n      <th>7</th>\n      <td>0.472486</td>\n      <td>(TOSSE, FEBRE)</td>\n      <td>2</td>\n    </tr>\n    <tr>\n      <th>8</th>\n      <td>0.457306</td>\n      <td>(FEBRE, DISPNEIA)</td>\n      <td>2</td>\n    </tr>\n    <tr>\n      <th>9</th>\n      <td>0.405440</td>\n      <td>(FEBRE, DESC_RESP)</td>\n      <td>2</td>\n    </tr>\n    <tr>\n      <th>10</th>\n      <td>0.540164</td>\n      <td>(TOSSE, DISPNEIA)</td>\n      <td>2</td>\n    </tr>\n    <tr>\n      <th>11</th>\n      <td>0.481973</td>\n      <td>(TOSSE, DESC_RESP)</td>\n      <td>2</td>\n    </tr>\n    <tr>\n      <th>12</th>\n      <td>0.552815</td>\n      <td>(DESC_RESP, DISPNEIA)</td>\n      <td>2</td>\n    </tr>\n    <tr>\n      <th>13</th>\n      <td>0.413030</td>\n      <td>(TOSSE, DESC_RESP, DISPNEIA)</td>\n      <td>3</td>\n    </tr>\n  </tbody>\n</table>\n</div>",
      "text/plain": "     support                      itemsets  length\n0   0.625553                    (EVOLUCAO)       1\n1   0.591398                       (FEBRE)       1\n2   0.700190                       (TOSSE)       1\n3   0.746363                    (DISPNEIA)       1\n4   0.653384                   (DESC_RESP)       1\n5   0.470588             (TOSSE, EVOLUCAO)       2\n6   0.445920          (DISPNEIA, EVOLUCAO)       2\n7   0.472486                (TOSSE, FEBRE)       2\n8   0.457306             (FEBRE, DISPNEIA)       2\n9   0.405440            (FEBRE, DESC_RESP)       2\n10  0.540164             (TOSSE, DISPNEIA)       2\n11  0.481973            (TOSSE, DESC_RESP)       2\n12  0.552815         (DESC_RESP, DISPNEIA)       2\n13  0.413030  (TOSSE, DESC_RESP, DISPNEIA)       3"
     },
     "execution_count": 62,
     "metadata": {},
     "output_type": "execute_result"
    }
   ],
   "source": [
    "# Running Apriori \r\n",
    "\r\n",
    "# if 'ID' in df.columns: del df['ID'] # ID is not relevant to apriori \r\n",
    "\r\n",
    "apriori_runner = Apriori(new_df, threshold=0.4, transform_bol=True)\r\n",
    "apriori_df = apriori_runner.run(use_colnames=True)\r\n",
    "apriori_df"
   ]
  },
  {
   "cell_type": "code",
   "execution_count": 63,
   "metadata": {},
   "outputs": [
    {
     "data": {
      "text/html": "<div>\n<style scoped>\n    .dataframe tbody tr th:only-of-type {\n        vertical-align: middle;\n    }\n\n    .dataframe tbody tr th {\n        vertical-align: top;\n    }\n\n    .dataframe thead th {\n        text-align: right;\n    }\n</style>\n<table border=\"1\" class=\"dataframe\">\n  <thead>\n    <tr style=\"text-align: right;\">\n      <th></th>\n      <th>support</th>\n      <th>itemsets</th>\n      <th>length</th>\n    </tr>\n  </thead>\n  <tbody>\n    <tr>\n      <th>10</th>\n      <td>0.540164</td>\n      <td>(TOSSE, DISPNEIA)</td>\n      <td>2</td>\n    </tr>\n    <tr>\n      <th>12</th>\n      <td>0.552815</td>\n      <td>(DESC_RESP, DISPNEIA)</td>\n      <td>2</td>\n    </tr>\n  </tbody>\n</table>\n</div>",
      "text/plain": "     support               itemsets  length\n10  0.540164      (TOSSE, DISPNEIA)       2\n12  0.552815  (DESC_RESP, DISPNEIA)       2"
     },
     "execution_count": 63,
     "metadata": {},
     "output_type": "execute_result"
    }
   ],
   "source": [
    "# Showing only pairs with support granter than 0.41\r\n",
    "apriori_runner.filter(apriori_df, length=2, threshold=0.5)"
   ]
  }
 ],
 "metadata": {
  "kernelspec": {
   "display_name": "Python 3.8.5 64-bit ('venv')",
   "name": "python385jvsc74a57bd0b27cf3110214d24c40a2b9ef434548ffdc2e98ad59f4d5299813bc28e7cd1e2f"
  },
  "language_info": {
   "codemirror_mode": {
    "name": "ipython",
    "version": 3
   },
   "file_extension": ".py",
   "mimetype": "text/x-python",
   "name": "python",
   "nbconvert_exporter": "python",
   "pygments_lexer": "ipython3",
   "version": "3.8.5"
  },
  "orig_nbformat": 2
 },
 "nbformat": 4,
 "nbformat_minor": 2
}