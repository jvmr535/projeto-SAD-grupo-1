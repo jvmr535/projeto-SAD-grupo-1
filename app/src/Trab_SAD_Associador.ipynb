{
 "cells": [
  {
   "cell_type": "code",
   "execution_count": null,
   "metadata": {},
   "outputs": [],
   "source": [
    "import numpy as np\r\n",
    "import pandas as pd\r\n",
    "from sklearn.model_selection import train_test_split\r\n",
    "from sklearn.neighbors import KNeighborsClassifier\r\n",
    "from sklearn.preprocessing import  MinMaxScaler\r\n",
    "from sklearn.metrics import classification_report\r\n",
    "\r\n",
    "#Lê o arquivo\r\n",
    "df = pd.read_csv('banco.tsv', '\\t')"
   ]
  }
 ],
 "metadata": {
  "kernelspec": {
   "display_name": "Python 3.8.5 64-bit ('venv')",
   "name": "python385jvsc74a57bd0b27cf3110214d24c40a2b9ef434548ffdc2e98ad59f4d5299813bc28e7cd1e2f"
  },
  "language_info": {
   "name": "python",
   "version": ""
  },
  "orig_nbformat": 2
 },
 "nbformat": 4,
 "nbformat_minor": 2
}