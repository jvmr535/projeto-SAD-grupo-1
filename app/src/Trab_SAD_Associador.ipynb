{
 "cells": [
  {
   "cell_type": "code",
   "execution_count": 1,
   "metadata": {},
   "outputs": [
    {
     "output_type": "execute_result",
     "data": {
      "text/plain": [
       "      EVOLUCAO  FEBRE  TOSSE  DISPNEIA  FADIGA  DESC_RESP  PERD_OLFT  \\\n",
       "0            0      1      1         1       1          1          1   \n",
       "1            1      1      1         1       0          1          0   \n",
       "2            0      0      1         1       0          1          0   \n",
       "3            1      1      1         1       1          1          1   \n",
       "4            1      1      1         0       0          1          0   \n",
       "...        ...    ...    ...       ...     ...        ...        ...   \n",
       "1576         0      0      1         1       0          1          0   \n",
       "1577         1      0      1         0       0          1          0   \n",
       "1578         0      0      1         1       0          1          0   \n",
       "1579         1      0      1         0       1          0          0   \n",
       "1580         1      0      1         1       0          1          0   \n",
       "\n",
       "      PERD_PALA  \n",
       "0             1  \n",
       "1             0  \n",
       "2             0  \n",
       "3             1  \n",
       "4             0  \n",
       "...         ...  \n",
       "1576          0  \n",
       "1577          0  \n",
       "1578          0  \n",
       "1579          0  \n",
       "1580          0  \n",
       "\n",
       "[1581 rows x 8 columns]"
      ],
      "text/html": "<div>\n<style scoped>\n    .dataframe tbody tr th:only-of-type {\n        vertical-align: middle;\n    }\n\n    .dataframe tbody tr th {\n        vertical-align: top;\n    }\n\n    .dataframe thead th {\n        text-align: right;\n    }\n</style>\n<table border=\"1\" class=\"dataframe\">\n  <thead>\n    <tr style=\"text-align: right;\">\n      <th></th>\n      <th>EVOLUCAO</th>\n      <th>FEBRE</th>\n      <th>TOSSE</th>\n      <th>DISPNEIA</th>\n      <th>FADIGA</th>\n      <th>DESC_RESP</th>\n      <th>PERD_OLFT</th>\n      <th>PERD_PALA</th>\n    </tr>\n  </thead>\n  <tbody>\n    <tr>\n      <th>0</th>\n      <td>0</td>\n      <td>1</td>\n      <td>1</td>\n      <td>1</td>\n      <td>1</td>\n      <td>1</td>\n      <td>1</td>\n      <td>1</td>\n    </tr>\n    <tr>\n      <th>1</th>\n      <td>1</td>\n      <td>1</td>\n      <td>1</td>\n      <td>1</td>\n      <td>0</td>\n      <td>1</td>\n      <td>0</td>\n      <td>0</td>\n    </tr>\n    <tr>\n      <th>2</th>\n      <td>0</td>\n      <td>0</td>\n      <td>1</td>\n      <td>1</td>\n      <td>0</td>\n      <td>1</td>\n      <td>0</td>\n      <td>0</td>\n    </tr>\n    <tr>\n      <th>3</th>\n      <td>1</td>\n      <td>1</td>\n      <td>1</td>\n      <td>1</td>\n      <td>1</td>\n      <td>1</td>\n      <td>1</td>\n      <td>1</td>\n    </tr>\n    <tr>\n      <th>4</th>\n      <td>1</td>\n      <td>1</td>\n      <td>1</td>\n      <td>0</td>\n      <td>0</td>\n      <td>1</td>\n      <td>0</td>\n      <td>0</td>\n    </tr>\n    <tr>\n      <th>...</th>\n      <td>...</td>\n      <td>...</td>\n      <td>...</td>\n      <td>...</td>\n      <td>...</td>\n      <td>...</td>\n      <td>...</td>\n      <td>...</td>\n    </tr>\n    <tr>\n      <th>1576</th>\n      <td>0</td>\n      <td>0</td>\n      <td>1</td>\n      <td>1</td>\n      <td>0</td>\n      <td>1</td>\n      <td>0</td>\n      <td>0</td>\n    </tr>\n    <tr>\n      <th>1577</th>\n      <td>1</td>\n      <td>0</td>\n      <td>1</td>\n      <td>0</td>\n      <td>0</td>\n      <td>1</td>\n      <td>0</td>\n      <td>0</td>\n    </tr>\n    <tr>\n      <th>1578</th>\n      <td>0</td>\n      <td>0</td>\n      <td>1</td>\n      <td>1</td>\n      <td>0</td>\n      <td>1</td>\n      <td>0</td>\n      <td>0</td>\n    </tr>\n    <tr>\n      <th>1579</th>\n      <td>1</td>\n      <td>0</td>\n      <td>1</td>\n      <td>0</td>\n      <td>1</td>\n      <td>0</td>\n      <td>0</td>\n      <td>0</td>\n    </tr>\n    <tr>\n      <th>1580</th>\n      <td>1</td>\n      <td>0</td>\n      <td>1</td>\n      <td>1</td>\n      <td>0</td>\n      <td>1</td>\n      <td>0</td>\n      <td>0</td>\n    </tr>\n  </tbody>\n</table>\n<p>1581 rows × 8 columns</p>\n</div>"
     },
     "metadata": {},
     "execution_count": 1
    }
   ],
   "source": [
    "import pandas as pd\n",
    "\n",
    "df = pd.read_csv('banco.tsv', '\\t')\n",
    "df_dummy = pd.get_dummies(df)\n",
    "aux = df_dummy[[\"EVOLUCAO\", \"FEBRE\", \"TOSSE\", \"DISPNEIA\", \"FADIGA\", \"DESC_RESP\", \"PERD_OLFT\", \"PERD_PALA\"]]\n",
    "new_df = pd.get_dummies(aux)\n",
    "\n",
    "new_df.loc[(new_df['EVOLUCAO'] == 9), 'EVOLUCAO'] = 1\n",
    "new_df.loc[(new_df['EVOLUCAO'] == 2) | (new_df['EVOLUCAO'] == 3), 'EVOLUCAO'] = 0\n",
    "\n",
    "new_df.loc[(new_df['FEBRE'] == 9), 'FEBRE'] = 1\n",
    "new_df.loc[(new_df['FEBRE'] == 2), 'FEBRE'] = 0\n",
    "\n",
    "new_df.loc[(new_df['TOSSE'] == 9), 'TOSSE'] = 1\n",
    "new_df.loc[(new_df['TOSSE'] == 2), 'TOSSE'] = 0\n",
    "\n",
    "new_df.loc[(new_df['DISPNEIA'] == 9), 'DISPNEIA'] = 1\n",
    "new_df.loc[(new_df['DISPNEIA'] == 2), 'DISPNEIA'] = 0\n",
    "\n",
    "new_df.loc[(new_df['FADIGA'] == 9), 'FADIGA'] = 1\n",
    "new_df.loc[(new_df['FADIGA'] == 2), 'FADIGA'] = 0\n",
    "\n",
    "new_df.loc[(new_df['DESC_RESP'] == 9), 'DESC_RESP'] = 1\n",
    "new_df.loc[(new_df['DESC_RESP'] == 2), 'DESC_RESP'] = 0\n",
    "\n",
    "new_df.loc[(new_df['PERD_OLFT'] == 9), 'PERD_OLFT'] = 1\n",
    "new_df.loc[(new_df['PERD_OLFT'] == 2), 'PERD_OLFT'] = 0\n",
    "\n",
    "new_df.loc[(new_df['PERD_PALA'] == 9), 'PERD_PALA'] = 1\n",
    "new_df.loc[(new_df['PERD_PALA'] == 2), 'PERD_PALA'] = 0\n",
    "\n",
    "\n",
    "new_df\n"
   ]
  },
  {
   "cell_type": "code",
   "execution_count": 2,
   "metadata": {},
   "outputs": [],
   "source": [
    "from mlxtend.frequent_patterns import apriori, association_rules\n",
    "\n",
    "class Apriori:\n",
    "    threshold = 0.5\n",
    "    df = None\n",
    "\n",
    "    def __init__(self, df, threshold=None, transform_bol=False):\n",
    "        \"\"\"Apriori Constructor. \n",
    "\n",
    "        :param pandas.DataFrame df: transactions dataset (1 or 0).\n",
    "        :param float threshold: set threshold for min_support.\n",
    "        :return: Apriori instance.\n",
    "        :rtype: Apriori\n",
    "        \"\"\"\n",
    "\n",
    "        self._validate_df(df)\n",
    "\n",
    "        self.df = df\n",
    "        if threshold is not None:\n",
    "            self.threshold = threshold\n",
    "\n",
    "        if transform_bol:\n",
    "            self._transform_bol()\n",
    "\n",
    "    def _validate_df(self, df=None):\n",
    "        \"\"\"Validade if df exists. \n",
    "\n",
    "        :param pandas.DataFrame df: transactions dataset (1 or 0).\n",
    "        :return: \n",
    "        :rtype: void\n",
    "        \"\"\"\n",
    "\n",
    "        if df is None:\n",
    "            raise Exception(\"df must be a valid pandas.DataDrame.\")\n",
    "\n",
    "\n",
    "    def _transform_bol(self):\n",
    "        \"\"\"Transform (1 or 0) dataset to (True or False). \n",
    "\n",
    "        :return: \n",
    "        :rtype: void\n",
    "        \"\"\"\n",
    "\n",
    "        for column in self.df.columns:\n",
    "            self.df[column] = self.df[column].apply(lambda x: True if x == 1 else False)\n",
    "\n",
    "\n",
    "    def _apriori(self, use_colnames=False, max_len=None, count=True):\n",
    "        \"\"\"Call apriori mlxtend.frequent_patterns function. \n",
    "\n",
    "        :param bool use_colnames: Flag to use columns name in final DataFrame.\n",
    "        :param int max_len: Maximum length of itemsets generated.\n",
    "        :param bool count: Flag to count length of the itemsets.\n",
    "        :return: apriori DataFrame.\n",
    "        :rtype: pandas.DataFrame\n",
    "        \"\"\"\n",
    "    \n",
    "        apriori_df = apriori(\n",
    "                    self.df, \n",
    "                    min_support=self.threshold,\n",
    "                    use_colnames=use_colnames, \n",
    "                    max_len=max_len\n",
    "                )\n",
    "        if count:\n",
    "            apriori_df['length'] = apriori_df['itemsets'].apply(lambda x: len(x))\n",
    "\n",
    "        return apriori_df\n",
    "\n",
    "    def run(self, use_colnames=False, max_len=None, count=True):\n",
    "        \"\"\"Apriori Runner Function.\n",
    "\n",
    "        :param bool use_colnames: Flag to use columns name in final DataFrame.\n",
    "        :param int max_len: Maximum length of itemsets generated.\n",
    "        :param bool count: Flag to count length of the itemsets.\n",
    "        :return: apriori DataFrame.\n",
    "        :rtype: pandas.DataFrame\n",
    "        \"\"\"\n",
    "\n",
    "        return self._apriori(\n",
    "                        use_colnames=use_colnames,\n",
    "                        max_len=max_len,\n",
    "                        count=count\n",
    "                    )\n",
    "\n",
    "    def filter(self, apriori_df, length, threshold):\n",
    "        \"\"\"Filter Apriori DataFrame by length and  threshold.\n",
    "\n",
    "        :param pandas.DataFrame apriori_df: Apriori DataFrame.\n",
    "        :param int length: Length of itemsets required.\n",
    "        :param float threshold: Minimum threshold nrequired.\n",
    "        :return: apriori filtered DataFrame.\n",
    "        :rtype:pandas.DataFrame\n",
    "        \"\"\"\n",
    "        \n",
    "        if 'length' not in apriori_df.columns:\n",
    "            raise Exception(\"apriori_df has no length. Please run the Apriori with count=True.\")\n",
    "\n",
    "        return apriori_df[ (apriori_df['length'] == length) & (apriori_df['support'] >= threshold) ]"
   ]
  },
  {
   "cell_type": "code",
   "execution_count": 16,
   "metadata": {},
   "outputs": [
    {
     "output_type": "execute_result",
     "data": {
      "text/plain": [
       "              antecedents            consequents   support  confidence\n",
       "0              (EVOLUCAO)                (TOSSE)  0.470588    0.752275\n",
       "1                 (TOSSE)             (EVOLUCAO)  0.470588    0.672087\n",
       "2              (EVOLUCAO)             (DISPNEIA)  0.445920    0.712841\n",
       "3              (DISPNEIA)             (EVOLUCAO)  0.445920    0.597458\n",
       "4                 (TOSSE)                (FEBRE)  0.472486    0.674797\n",
       "5                 (FEBRE)                (TOSSE)  0.472486    0.798930\n",
       "6                 (FEBRE)             (DISPNEIA)  0.457306    0.773262\n",
       "7              (DISPNEIA)                (FEBRE)  0.457306    0.612712\n",
       "8             (DESC_RESP)                (FEBRE)  0.405440    0.620523\n",
       "9                 (FEBRE)            (DESC_RESP)  0.405440    0.685561\n",
       "10                (TOSSE)             (DISPNEIA)  0.540164    0.771454\n",
       "11             (DISPNEIA)                (TOSSE)  0.540164    0.723729\n",
       "12                (TOSSE)            (DESC_RESP)  0.481973    0.688347\n",
       "13            (DESC_RESP)                (TOSSE)  0.481973    0.737657\n",
       "14            (DESC_RESP)             (DISPNEIA)  0.552815    0.846079\n",
       "15             (DISPNEIA)            (DESC_RESP)  0.552815    0.740678\n",
       "16     (TOSSE, DESC_RESP)             (DISPNEIA)  0.413030    0.856955\n",
       "17      (TOSSE, DISPNEIA)            (DESC_RESP)  0.413030    0.764637\n",
       "18  (DESC_RESP, DISPNEIA)                (TOSSE)  0.413030    0.747140\n",
       "19                (TOSSE)  (DESC_RESP, DISPNEIA)  0.413030    0.589883\n",
       "20            (DESC_RESP)      (TOSSE, DISPNEIA)  0.413030    0.632139\n",
       "21             (DISPNEIA)     (TOSSE, DESC_RESP)  0.413030    0.553390"
      ],
      "text/html": "<div>\n<style scoped>\n    .dataframe tbody tr th:only-of-type {\n        vertical-align: middle;\n    }\n\n    .dataframe tbody tr th {\n        vertical-align: top;\n    }\n\n    .dataframe thead th {\n        text-align: right;\n    }\n</style>\n<table border=\"1\" class=\"dataframe\">\n  <thead>\n    <tr style=\"text-align: right;\">\n      <th></th>\n      <th>antecedents</th>\n      <th>consequents</th>\n      <th>support</th>\n      <th>confidence</th>\n    </tr>\n  </thead>\n  <tbody>\n    <tr>\n      <th>0</th>\n      <td>(EVOLUCAO)</td>\n      <td>(TOSSE)</td>\n      <td>0.470588</td>\n      <td>0.752275</td>\n    </tr>\n    <tr>\n      <th>1</th>\n      <td>(TOSSE)</td>\n      <td>(EVOLUCAO)</td>\n      <td>0.470588</td>\n      <td>0.672087</td>\n    </tr>\n    <tr>\n      <th>2</th>\n      <td>(EVOLUCAO)</td>\n      <td>(DISPNEIA)</td>\n      <td>0.445920</td>\n      <td>0.712841</td>\n    </tr>\n    <tr>\n      <th>3</th>\n      <td>(DISPNEIA)</td>\n      <td>(EVOLUCAO)</td>\n      <td>0.445920</td>\n      <td>0.597458</td>\n    </tr>\n    <tr>\n      <th>4</th>\n      <td>(TOSSE)</td>\n      <td>(FEBRE)</td>\n      <td>0.472486</td>\n      <td>0.674797</td>\n    </tr>\n    <tr>\n      <th>5</th>\n      <td>(FEBRE)</td>\n      <td>(TOSSE)</td>\n      <td>0.472486</td>\n      <td>0.798930</td>\n    </tr>\n    <tr>\n      <th>6</th>\n      <td>(FEBRE)</td>\n      <td>(DISPNEIA)</td>\n      <td>0.457306</td>\n      <td>0.773262</td>\n    </tr>\n    <tr>\n      <th>7</th>\n      <td>(DISPNEIA)</td>\n      <td>(FEBRE)</td>\n      <td>0.457306</td>\n      <td>0.612712</td>\n    </tr>\n    <tr>\n      <th>8</th>\n      <td>(DESC_RESP)</td>\n      <td>(FEBRE)</td>\n      <td>0.405440</td>\n      <td>0.620523</td>\n    </tr>\n    <tr>\n      <th>9</th>\n      <td>(FEBRE)</td>\n      <td>(DESC_RESP)</td>\n      <td>0.405440</td>\n      <td>0.685561</td>\n    </tr>\n    <tr>\n      <th>10</th>\n      <td>(TOSSE)</td>\n      <td>(DISPNEIA)</td>\n      <td>0.540164</td>\n      <td>0.771454</td>\n    </tr>\n    <tr>\n      <th>11</th>\n      <td>(DISPNEIA)</td>\n      <td>(TOSSE)</td>\n      <td>0.540164</td>\n      <td>0.723729</td>\n    </tr>\n    <tr>\n      <th>12</th>\n      <td>(TOSSE)</td>\n      <td>(DESC_RESP)</td>\n      <td>0.481973</td>\n      <td>0.688347</td>\n    </tr>\n    <tr>\n      <th>13</th>\n      <td>(DESC_RESP)</td>\n      <td>(TOSSE)</td>\n      <td>0.481973</td>\n      <td>0.737657</td>\n    </tr>\n    <tr>\n      <th>14</th>\n      <td>(DESC_RESP)</td>\n      <td>(DISPNEIA)</td>\n      <td>0.552815</td>\n      <td>0.846079</td>\n    </tr>\n    <tr>\n      <th>15</th>\n      <td>(DISPNEIA)</td>\n      <td>(DESC_RESP)</td>\n      <td>0.552815</td>\n      <td>0.740678</td>\n    </tr>\n    <tr>\n      <th>16</th>\n      <td>(TOSSE, DESC_RESP)</td>\n      <td>(DISPNEIA)</td>\n      <td>0.413030</td>\n      <td>0.856955</td>\n    </tr>\n    <tr>\n      <th>17</th>\n      <td>(TOSSE, DISPNEIA)</td>\n      <td>(DESC_RESP)</td>\n      <td>0.413030</td>\n      <td>0.764637</td>\n    </tr>\n    <tr>\n      <th>18</th>\n      <td>(DESC_RESP, DISPNEIA)</td>\n      <td>(TOSSE)</td>\n      <td>0.413030</td>\n      <td>0.747140</td>\n    </tr>\n    <tr>\n      <th>19</th>\n      <td>(TOSSE)</td>\n      <td>(DESC_RESP, DISPNEIA)</td>\n      <td>0.413030</td>\n      <td>0.589883</td>\n    </tr>\n    <tr>\n      <th>20</th>\n      <td>(DESC_RESP)</td>\n      <td>(TOSSE, DISPNEIA)</td>\n      <td>0.413030</td>\n      <td>0.632139</td>\n    </tr>\n    <tr>\n      <th>21</th>\n      <td>(DISPNEIA)</td>\n      <td>(TOSSE, DESC_RESP)</td>\n      <td>0.413030</td>\n      <td>0.553390</td>\n    </tr>\n  </tbody>\n</table>\n</div>"
     },
     "metadata": {},
     "execution_count": 16
    }
   ],
   "source": [
    "# Running Apriori \n",
    "\n",
    "apriori_runner = Apriori(new_df, threshold=0.4, transform_bol=True)\n",
    "apriori_df = apriori_runner.run(use_colnames=True)\n",
    "apriori_df\n",
    "table = association_rules(apriori_df, metric='confidence', min_threshold=0.4)\n",
    "table = table[['antecedents', 'consequents', 'support', 'confidence']]\n",
    "table"
   ]
  },
  {
   "cell_type": "code",
   "execution_count": 17,
   "metadata": {},
   "outputs": [
    {
     "output_type": "execute_result",
     "data": {
      "text/plain": [
       "     support               itemsets  length\n",
       "10  0.540164      (TOSSE, DISPNEIA)       2\n",
       "12  0.552815  (DESC_RESP, DISPNEIA)       2"
      ],
      "text/html": "<div>\n<style scoped>\n    .dataframe tbody tr th:only-of-type {\n        vertical-align: middle;\n    }\n\n    .dataframe tbody tr th {\n        vertical-align: top;\n    }\n\n    .dataframe thead th {\n        text-align: right;\n    }\n</style>\n<table border=\"1\" class=\"dataframe\">\n  <thead>\n    <tr style=\"text-align: right;\">\n      <th></th>\n      <th>support</th>\n      <th>itemsets</th>\n      <th>length</th>\n    </tr>\n  </thead>\n  <tbody>\n    <tr>\n      <th>10</th>\n      <td>0.540164</td>\n      <td>(TOSSE, DISPNEIA)</td>\n      <td>2</td>\n    </tr>\n    <tr>\n      <th>12</th>\n      <td>0.552815</td>\n      <td>(DESC_RESP, DISPNEIA)</td>\n      <td>2</td>\n    </tr>\n  </tbody>\n</table>\n</div>"
     },
     "metadata": {},
     "execution_count": 17
    }
   ],
   "source": [
    "apriori_runner.filter(apriori_df, length=2, threshold=0.5)"
   ]
  },
  {
   "cell_type": "code",
   "execution_count": null,
   "metadata": {},
   "outputs": [],
   "source": []
  }
 ],
 "metadata": {
  "kernelspec": {
   "name": "python37564bitacdae91f7df94ff29199935337c8cc30",
   "display_name": "Python 3.7.5 64-bit"
  },
  "language_info": {
   "codemirror_mode": {
    "name": "ipython",
    "version": 3
   },
   "file_extension": ".py",
   "mimetype": "text/x-python",
   "name": "python",
   "nbconvert_exporter": "python",
   "pygments_lexer": "ipython3",
   "version": "3.7.5"
  },
  "orig_nbformat": 2,
  "metadata": {
   "interpreter": {
    "hash": "7e2ee50d451078c061c7fd4e502b78399f87c571a1f18f06f259841e344018a3"
   }
  }
 },
 "nbformat": 4,
 "nbformat_minor": 2
}