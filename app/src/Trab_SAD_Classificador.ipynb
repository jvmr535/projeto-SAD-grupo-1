{
 "cells": [
  {
   "cell_type": "code",
   "execution_count": 200,
   "metadata": {},
   "outputs": [],
   "source": [
    "import numpy as np\r\n",
    "import pandas as pd\r\n",
    "from sklearn.model_selection import train_test_split\r\n",
    "from sklearn.neighbors import KNeighborsClassifier\r\n",
    "from sklearn.preprocessing import  MinMaxScaler\r\n",
    "from sklearn.metrics import classification_report\r\n",
    "\r\n",
    "#Lê o arquivo\r\n",
    "df = pd.read_csv('banco.tsv', '\\t')"
   ]
  },
  {
   "cell_type": "code",
   "execution_count": 201,
   "metadata": {},
   "outputs": [],
   "source": [
    "#Cria novas colunas para cada tipo de valor que temos em uma determinada coluna\r\n",
    "\r\n",
    "df_dummy = pd.get_dummies(df)\r\n",
    "\r\n",
    "#Features\r\n",
    "features = np.array(df_dummy[['FEBRE']])\r\n",
    "\r\n",
    "#Target\r\n",
    "target = np.array(df_dummy['EVOLUCAO'])\r\n"
   ]
  },
  {
   "cell_type": "code",
   "execution_count": 202,
   "metadata": {},
   "outputs": [],
   "source": [
    "#Normaliza os dados\r\n",
    "normaliza =  MinMaxScaler()\r\n",
    "features = normaliza.fit_transform(features)"
   ]
  },
  {
   "cell_type": "code",
   "execution_count": 203,
   "metadata": {},
   "outputs": [],
   "source": [
    "#Separa o conjuto de treino e o conjunto de teste\r\n",
    "features_train, features_test, target_train, target_test = train_test_split(features, target, test_size=0.2, random_state=0)"
   ]
  },
  {
   "cell_type": "code",
   "execution_count": 204,
   "metadata": {},
   "outputs": [],
   "source": [
    "#Define o modelo KNN\r\n",
    "knn = KNeighborsClassifier(n_neighbors=20, metric='euclidean')"
   ]
  },
  {
   "cell_type": "code",
   "execution_count": 205,
   "metadata": {},
   "outputs": [
    {
     "data": {
      "text/plain": "KNeighborsClassifier(metric='euclidean', n_neighbors=20)"
     },
     "execution_count": 205,
     "metadata": {},
     "output_type": "execute_result"
    }
   ],
   "source": [
    "#Treina o modelo\r\n",
    "knn.fit(features_train, target_train)"
   ]
  },
  {
   "cell_type": "code",
   "execution_count": 206,
   "metadata": {},
   "outputs": [
    {
     "data": {
      "text/plain": "0.6214511041009464"
     },
     "execution_count": 206,
     "metadata": {},
     "output_type": "execute_result"
    }
   ],
   "source": [
    "#Mostra a porcentagem de acerto\r\n",
    "accuracy = knn.score(features_test, target_test)\r\n",
    "accuracy"
   ]
  },
  {
   "cell_type": "code",
   "execution_count": 207,
   "metadata": {},
   "outputs": [],
   "source": [
    "#Faz a predição\r\n",
    "target_pred = knn.predict(features_test)"
   ]
  },
  {
   "cell_type": "code",
   "execution_count": 208,
   "metadata": {},
   "outputs": [
    {
     "name": "stdout",
     "output_type": "stream",
     "text": [
      "              precision    recall  f1-score   support\n",
      "\n",
      "           1       0.62      1.00      0.76       193\n",
      "           2       1.00      0.03      0.06       124\n",
      "\n",
      "    accuracy                           0.62       317\n",
      "   macro avg       0.81      0.52      0.41       317\n",
      "weighted avg       0.77      0.62      0.49       317\n",
      "\n"
     ]
    }
   ],
   "source": [
    "#Exibe relatorio\r\n",
    "print(classification_report(target_test, target_pred))"
   ]
  }
 ],
 "metadata": {
  "kernelspec": {
   "display_name": "Python 3.8.5 64-bit ('venv')",
   "name": "python385jvsc74a57bd0b27cf3110214d24c40a2b9ef434548ffdc2e98ad59f4d5299813bc28e7cd1e2f"
  },
  "language_info": {
   "codemirror_mode": {
    "name": "ipython",
    "version": 3
   },
   "file_extension": ".py",
   "mimetype": "text/x-python",
   "name": "python",
   "nbconvert_exporter": "python",
   "pygments_lexer": "ipython3",
   "version": "3.8.5"
  }
 },
 "nbformat": 4,
 "nbformat_minor": 4
}